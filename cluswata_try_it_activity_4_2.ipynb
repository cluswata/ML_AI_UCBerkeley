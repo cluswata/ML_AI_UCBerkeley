{
 "cells": [
  {
   "cell_type": "markdown",
   "metadata": {},
   "source": [
    "### Exploring Credit Risks\n",
    "\n",
    "This activity is another open exploration of a dataset using both cleaning methods and visualizations.  The data describes customers as good or bad credit risks based on a small set of features specified below.  Your task is to create a Jupyter notebook with an exploration of the data using both your `pandas` cleaning and analysis skills and your visualization skills using `matplotlib`, `seaborn`, and `plotly`.  Your final notebook should be formatted with appropriate headers and markdown cells with written explanations for the code that follows. \n",
    "\n",
    "Post your notebook file in Canvas, as well as a brief (3-4 sentence) description of what you found through your analysis. Respond to your peers with reflections on thier analysis. \n",
    "\n",
    "-----\n"
   ]
  },
  {
   "cell_type": "markdown",
   "metadata": {},
   "source": [
    "##### Data Description\n",
    "\n",
    "```\n",
    "1. Status of existing checking account, in Deutsche Mark.\n",
    "2. Duration in months\n",
    "3. Credit history (credits taken, paid back duly, delays, critical accounts)\n",
    "4. Purpose of the credit (car, television,...)\n",
    "5. Credit amount\n",
    "6. Status of savings account/bonds, in Deutsche Mark.\n",
    "7. Present employment, in number of years.\n",
    "8. Installment rate in percentage of disposable income\n",
    "9. Personal status (married, single,...) and sex\n",
    "10. Other debtors / guarantors\n",
    "11. Present residence since X years\n",
    "12. Property (e.g. real estate)\n",
    "13. Age in years\n",
    "14. Other installment plans (banks, stores)\n",
    "15. Housing (rent, own,...)\n",
    "16. Number of existing credits at this bank\n",
    "17. Job\n",
    "18. Number of people being liable to provide maintenance for\n",
    "19. Telephone (yes,no)\n",
    "20. Foreign worker (yes,no)\n",
    "```"
   ]
  },
  {
   "cell_type": "code",
   "execution_count": 3,
   "metadata": {},
   "outputs": [],
   "source": [
    "from scipy.stats import uniform\n",
    "from scipy.stats import norm\n",
    "import numpy as np\n",
    "import matplotlib.pyplot as plt\n",
    "import pandas as pd\n",
    "import seaborn as sns\n",
    "import plotly.graph_objects as go\n",
    "import matplotlib.ticker as ticker\n",
    "import plotly.express as px\n",
    "from scipy.stats import pearsonr\n",
    "from scipy.stats import chi2_contingency\n"
   ]
  },
  {
   "cell_type": "code",
   "execution_count": 4,
   "metadata": {},
   "outputs": [
    {
     "data": {
      "text/plain": [
       "(1000, 21)"
      ]
     },
     "execution_count": 4,
     "metadata": {},
     "output_type": "execute_result"
    }
   ],
   "source": [
    "df = pd.read_csv('C:/Users/Luswata/Dropbox/ML_AI_UCBerkeley/Data/dataset_31_credit-g.csv')\n",
    "df.shape"
   ]
  },
  {
   "cell_type": "code",
   "execution_count": 5,
   "metadata": {},
   "outputs": [
    {
     "data": {
      "text/html": [
       "<div>\n",
       "<style scoped>\n",
       "    .dataframe tbody tr th:only-of-type {\n",
       "        vertical-align: middle;\n",
       "    }\n",
       "\n",
       "    .dataframe tbody tr th {\n",
       "        vertical-align: top;\n",
       "    }\n",
       "\n",
       "    .dataframe thead th {\n",
       "        text-align: right;\n",
       "    }\n",
       "</style>\n",
       "<table border=\"1\" class=\"dataframe\">\n",
       "  <thead>\n",
       "    <tr style=\"text-align: right;\">\n",
       "      <th></th>\n",
       "      <th>checking_status</th>\n",
       "      <th>duration</th>\n",
       "      <th>credit_history</th>\n",
       "      <th>purpose</th>\n",
       "      <th>credit_amount</th>\n",
       "      <th>savings_status</th>\n",
       "      <th>employment</th>\n",
       "      <th>installment_commitment</th>\n",
       "      <th>personal_status</th>\n",
       "      <th>other_parties</th>\n",
       "      <th>...</th>\n",
       "      <th>property_magnitude</th>\n",
       "      <th>age</th>\n",
       "      <th>other_payment_plans</th>\n",
       "      <th>housing</th>\n",
       "      <th>existing_credits</th>\n",
       "      <th>job</th>\n",
       "      <th>num_dependents</th>\n",
       "      <th>own_telephone</th>\n",
       "      <th>foreign_worker</th>\n",
       "      <th>class</th>\n",
       "    </tr>\n",
       "  </thead>\n",
       "  <tbody>\n",
       "    <tr>\n",
       "      <th>0</th>\n",
       "      <td>'&lt;0'</td>\n",
       "      <td>6</td>\n",
       "      <td>'critical/other existing credit'</td>\n",
       "      <td>radio/tv</td>\n",
       "      <td>1169</td>\n",
       "      <td>'no known savings'</td>\n",
       "      <td>'&gt;=7'</td>\n",
       "      <td>4</td>\n",
       "      <td>'male single'</td>\n",
       "      <td>none</td>\n",
       "      <td>...</td>\n",
       "      <td>'real estate'</td>\n",
       "      <td>67</td>\n",
       "      <td>none</td>\n",
       "      <td>own</td>\n",
       "      <td>2</td>\n",
       "      <td>skilled</td>\n",
       "      <td>1</td>\n",
       "      <td>yes</td>\n",
       "      <td>yes</td>\n",
       "      <td>good</td>\n",
       "    </tr>\n",
       "    <tr>\n",
       "      <th>1</th>\n",
       "      <td>'0&lt;=X&lt;200'</td>\n",
       "      <td>48</td>\n",
       "      <td>'existing paid'</td>\n",
       "      <td>radio/tv</td>\n",
       "      <td>5951</td>\n",
       "      <td>'&lt;100'</td>\n",
       "      <td>'1&lt;=X&lt;4'</td>\n",
       "      <td>2</td>\n",
       "      <td>'female div/dep/mar'</td>\n",
       "      <td>none</td>\n",
       "      <td>...</td>\n",
       "      <td>'real estate'</td>\n",
       "      <td>22</td>\n",
       "      <td>none</td>\n",
       "      <td>own</td>\n",
       "      <td>1</td>\n",
       "      <td>skilled</td>\n",
       "      <td>1</td>\n",
       "      <td>none</td>\n",
       "      <td>yes</td>\n",
       "      <td>bad</td>\n",
       "    </tr>\n",
       "    <tr>\n",
       "      <th>2</th>\n",
       "      <td>'no checking'</td>\n",
       "      <td>12</td>\n",
       "      <td>'critical/other existing credit'</td>\n",
       "      <td>education</td>\n",
       "      <td>2096</td>\n",
       "      <td>'&lt;100'</td>\n",
       "      <td>'4&lt;=X&lt;7'</td>\n",
       "      <td>2</td>\n",
       "      <td>'male single'</td>\n",
       "      <td>none</td>\n",
       "      <td>...</td>\n",
       "      <td>'real estate'</td>\n",
       "      <td>49</td>\n",
       "      <td>none</td>\n",
       "      <td>own</td>\n",
       "      <td>1</td>\n",
       "      <td>'unskilled resident'</td>\n",
       "      <td>2</td>\n",
       "      <td>none</td>\n",
       "      <td>yes</td>\n",
       "      <td>good</td>\n",
       "    </tr>\n",
       "  </tbody>\n",
       "</table>\n",
       "<p>3 rows × 21 columns</p>\n",
       "</div>"
      ],
      "text/plain": [
       "  checking_status  duration                    credit_history    purpose  \\\n",
       "0            '<0'         6  'critical/other existing credit'   radio/tv   \n",
       "1      '0<=X<200'        48                   'existing paid'   radio/tv   \n",
       "2   'no checking'        12  'critical/other existing credit'  education   \n",
       "\n",
       "   credit_amount      savings_status employment  installment_commitment  \\\n",
       "0           1169  'no known savings'      '>=7'                       4   \n",
       "1           5951              '<100'   '1<=X<4'                       2   \n",
       "2           2096              '<100'   '4<=X<7'                       2   \n",
       "\n",
       "        personal_status other_parties  ...  property_magnitude age  \\\n",
       "0         'male single'          none  ...       'real estate'  67   \n",
       "1  'female div/dep/mar'          none  ...       'real estate'  22   \n",
       "2         'male single'          none  ...       'real estate'  49   \n",
       "\n",
       "   other_payment_plans housing existing_credits                   job  \\\n",
       "0                 none     own                2               skilled   \n",
       "1                 none     own                1               skilled   \n",
       "2                 none     own                1  'unskilled resident'   \n",
       "\n",
       "  num_dependents  own_telephone foreign_worker class  \n",
       "0              1            yes            yes  good  \n",
       "1              1           none            yes   bad  \n",
       "2              2           none            yes  good  \n",
       "\n",
       "[3 rows x 21 columns]"
      ]
     },
     "execution_count": 5,
     "metadata": {},
     "output_type": "execute_result"
    }
   ],
   "source": [
    "df.head(3)"
   ]
  },
  {
   "cell_type": "code",
   "execution_count": 7,
   "metadata": {},
   "outputs": [
    {
     "name": "stdout",
     "output_type": "stream",
     "text": [
      "<class 'pandas.core.frame.DataFrame'>\n",
      "RangeIndex: 1000 entries, 0 to 999\n",
      "Data columns (total 21 columns):\n",
      " #   Column                  Non-Null Count  Dtype \n",
      "---  ------                  --------------  ----- \n",
      " 0   checking_status         1000 non-null   object\n",
      " 1   duration                1000 non-null   int64 \n",
      " 2   credit_history          1000 non-null   object\n",
      " 3   purpose                 1000 non-null   object\n",
      " 4   credit_amount           1000 non-null   int64 \n",
      " 5   savings_status          1000 non-null   object\n",
      " 6   employment              1000 non-null   object\n",
      " 7   installment_commitment  1000 non-null   int64 \n",
      " 8   personal_status         1000 non-null   object\n",
      " 9   other_parties           1000 non-null   object\n",
      " 10  residence_since         1000 non-null   int64 \n",
      " 11  property_magnitude      1000 non-null   object\n",
      " 12  age                     1000 non-null   int64 \n",
      " 13  other_payment_plans     1000 non-null   object\n",
      " 14  housing                 1000 non-null   object\n",
      " 15  existing_credits        1000 non-null   int64 \n",
      " 16  job                     1000 non-null   object\n",
      " 17  num_dependents          1000 non-null   int64 \n",
      " 18  own_telephone           1000 non-null   object\n",
      " 19  foreign_worker          1000 non-null   object\n",
      " 20  class                   1000 non-null   object\n",
      "dtypes: int64(7), object(14)\n",
      "memory usage: 164.2+ KB\n"
     ]
    }
   ],
   "source": [
    "df.info()"
   ]
  },
  {
   "cell_type": "code",
   "execution_count": 36,
   "metadata": {},
   "outputs": [
    {
     "data": {
      "text/plain": [
       "Index(['checking_status', 'duration', 'credit_history', 'purpose',\n",
       "       'credit_amount', 'savings_status', 'employment',\n",
       "       'installment_commitment', 'personal_status', 'other_parties',\n",
       "       'residence_since', 'property_magnitude', 'age', 'other_payment_plans',\n",
       "       'housing', 'existing_credits', 'job', 'num_dependents', 'own_telephone',\n",
       "       'foreign_worker', 'class'],\n",
       "      dtype='object')"
      ]
     },
     "execution_count": 36,
     "metadata": {},
     "output_type": "execute_result"
    }
   ],
   "source": [
    "df.columns"
   ]
  },
  {
   "cell_type": "code",
   "execution_count": 37,
   "metadata": {},
   "outputs": [
    {
     "data": {
      "text/html": [
       "<div>\n",
       "<style scoped>\n",
       "    .dataframe tbody tr th:only-of-type {\n",
       "        vertical-align: middle;\n",
       "    }\n",
       "\n",
       "    .dataframe tbody tr th {\n",
       "        vertical-align: top;\n",
       "    }\n",
       "\n",
       "    .dataframe thead th {\n",
       "        text-align: right;\n",
       "    }\n",
       "</style>\n",
       "<table border=\"1\" class=\"dataframe\">\n",
       "  <thead>\n",
       "    <tr style=\"text-align: right;\">\n",
       "      <th></th>\n",
       "      <th>duration</th>\n",
       "      <th>credit_amount</th>\n",
       "      <th>installment_commitment</th>\n",
       "      <th>residence_since</th>\n",
       "      <th>age</th>\n",
       "      <th>existing_credits</th>\n",
       "      <th>num_dependents</th>\n",
       "    </tr>\n",
       "  </thead>\n",
       "  <tbody>\n",
       "    <tr>\n",
       "      <th>count</th>\n",
       "      <td>1000.000000</td>\n",
       "      <td>1000.000000</td>\n",
       "      <td>1000.000000</td>\n",
       "      <td>1000.000000</td>\n",
       "      <td>1000.000000</td>\n",
       "      <td>1000.000000</td>\n",
       "      <td>1000.000000</td>\n",
       "    </tr>\n",
       "    <tr>\n",
       "      <th>mean</th>\n",
       "      <td>20.903000</td>\n",
       "      <td>3271.258000</td>\n",
       "      <td>2.973000</td>\n",
       "      <td>2.845000</td>\n",
       "      <td>35.546000</td>\n",
       "      <td>1.407000</td>\n",
       "      <td>1.155000</td>\n",
       "    </tr>\n",
       "    <tr>\n",
       "      <th>std</th>\n",
       "      <td>12.058814</td>\n",
       "      <td>2822.736876</td>\n",
       "      <td>1.118715</td>\n",
       "      <td>1.103718</td>\n",
       "      <td>11.375469</td>\n",
       "      <td>0.577654</td>\n",
       "      <td>0.362086</td>\n",
       "    </tr>\n",
       "    <tr>\n",
       "      <th>min</th>\n",
       "      <td>4.000000</td>\n",
       "      <td>250.000000</td>\n",
       "      <td>1.000000</td>\n",
       "      <td>1.000000</td>\n",
       "      <td>19.000000</td>\n",
       "      <td>1.000000</td>\n",
       "      <td>1.000000</td>\n",
       "    </tr>\n",
       "    <tr>\n",
       "      <th>25%</th>\n",
       "      <td>12.000000</td>\n",
       "      <td>1365.500000</td>\n",
       "      <td>2.000000</td>\n",
       "      <td>2.000000</td>\n",
       "      <td>27.000000</td>\n",
       "      <td>1.000000</td>\n",
       "      <td>1.000000</td>\n",
       "    </tr>\n",
       "    <tr>\n",
       "      <th>50%</th>\n",
       "      <td>18.000000</td>\n",
       "      <td>2319.500000</td>\n",
       "      <td>3.000000</td>\n",
       "      <td>3.000000</td>\n",
       "      <td>33.000000</td>\n",
       "      <td>1.000000</td>\n",
       "      <td>1.000000</td>\n",
       "    </tr>\n",
       "    <tr>\n",
       "      <th>75%</th>\n",
       "      <td>24.000000</td>\n",
       "      <td>3972.250000</td>\n",
       "      <td>4.000000</td>\n",
       "      <td>4.000000</td>\n",
       "      <td>42.000000</td>\n",
       "      <td>2.000000</td>\n",
       "      <td>1.000000</td>\n",
       "    </tr>\n",
       "    <tr>\n",
       "      <th>max</th>\n",
       "      <td>72.000000</td>\n",
       "      <td>18424.000000</td>\n",
       "      <td>4.000000</td>\n",
       "      <td>4.000000</td>\n",
       "      <td>75.000000</td>\n",
       "      <td>4.000000</td>\n",
       "      <td>2.000000</td>\n",
       "    </tr>\n",
       "  </tbody>\n",
       "</table>\n",
       "</div>"
      ],
      "text/plain": [
       "          duration  credit_amount  installment_commitment  residence_since  \\\n",
       "count  1000.000000    1000.000000             1000.000000      1000.000000   \n",
       "mean     20.903000    3271.258000                2.973000         2.845000   \n",
       "std      12.058814    2822.736876                1.118715         1.103718   \n",
       "min       4.000000     250.000000                1.000000         1.000000   \n",
       "25%      12.000000    1365.500000                2.000000         2.000000   \n",
       "50%      18.000000    2319.500000                3.000000         3.000000   \n",
       "75%      24.000000    3972.250000                4.000000         4.000000   \n",
       "max      72.000000   18424.000000                4.000000         4.000000   \n",
       "\n",
       "               age  existing_credits  num_dependents  \n",
       "count  1000.000000       1000.000000     1000.000000  \n",
       "mean     35.546000          1.407000        1.155000  \n",
       "std      11.375469          0.577654        0.362086  \n",
       "min      19.000000          1.000000        1.000000  \n",
       "25%      27.000000          1.000000        1.000000  \n",
       "50%      33.000000          1.000000        1.000000  \n",
       "75%      42.000000          2.000000        1.000000  \n",
       "max      75.000000          4.000000        2.000000  "
      ]
     },
     "execution_count": 37,
     "metadata": {},
     "output_type": "execute_result"
    }
   ],
   "source": [
    "df.describe()"
   ]
  },
  {
   "cell_type": "code",
   "execution_count": 33,
   "metadata": {},
   "outputs": [
    {
     "data": {
      "text/plain": [
       "(1000, 21)"
      ]
     },
     "execution_count": 33,
     "metadata": {},
     "output_type": "execute_result"
    }
   ],
   "source": [
    "# Identify and drop any duplicates\n",
    "duplicates = df[df.duplicated()]\n",
    "df.drop_duplicates(inplace=True)\n",
    "df.shape"
   ]
  },
  {
   "cell_type": "code",
   "execution_count": 6,
   "metadata": {},
   "outputs": [
    {
     "data": {
      "text/plain": [
       "Index([], dtype='object')"
      ]
     },
     "execution_count": 6,
     "metadata": {},
     "output_type": "execute_result"
    }
   ],
   "source": [
    "df.columns[df.columns.str.contains(\"NaN\")]"
   ]
  },
  {
   "cell_type": "code",
   "execution_count": 35,
   "metadata": {},
   "outputs": [
    {
     "data": {
      "image/png": "[encoded data removed]",
      "text/plain": [
       "<Figure size 1000x600 with 1 Axes>"
      ]
     },
     "metadata": {},
     "output_type": "display_data"
    }
   ],
   "source": [
    "# Check mising rates \n",
    "missing_values_count = df.isnull().sum().sort_values()\n",
    "\n",
    "plt.figure(figsize=(10, 6))\n",
    "missing_values_count.plot(kind='bar')\n",
    "plt.xlabel('Columns')\n",
    "plt.ylabel('Count of Missing Values')\n",
    "plt.title('Count of Missing Values in Each Column')\n",
    "plt.xticks(rotation=45, ha='right')\n",
    "plt.tight_layout()\n",
    "\n",
    "# Show the plot (optional)\n",
    "plt.show()"
   ]
  },
  {
   "cell_type": "code",
   "execution_count": 5,
   "metadata": {},
   "outputs": [
    {
     "name": "stdout",
     "output_type": "stream",
     "text": [
      "class            bad  good\n",
      "checking_status           \n",
      "'0<=X<200'       105   164\n",
      "'<0'             135   139\n",
      "'>=200'           14    49\n",
      "'no checking'     46   348\n",
      "class                 bad      good\n",
      "checking_status                    \n",
      "'0<=X<200'       0.390335  0.609665\n",
      "'<0'             0.492701  0.507299\n",
      "'>=200'          0.222222  0.777778\n",
      "'no checking'    0.116751  0.883249\n",
      "Chi-square statistic: 123.72094351626559\n",
      "P-value: 1.2189020722893845e-26\n",
      "Degrees of freedom: 3\n",
      "Expected frequencies table:\n",
      " [[ 80.7 188.3]\n",
      " [ 82.2 191.8]\n",
      " [ 18.9  44.1]\n",
      " [118.2 275.8]]\n"
     ]
    }
   ],
   "source": [
    "# Status of existing checking account, in Deutsche Mark.\n",
    "crosstab = pd.crosstab(df['checking_status'], df['class'])\n",
    "print(crosstab)\n",
    "\n",
    "crosstab1 = pd.crosstab(df['checking_status'], df['class'], normalize='index')\n",
    "print(crosstab1)\n",
    "\n",
    "# Perform chi-square test\n",
    "chi2, p, dof, expected = chi2_contingency(crosstab)\n",
    "\n",
    "print(\"Chi-square statistic:\", chi2)\n",
    "print(\"P-value:\", p)\n",
    "print(\"Degrees of freedom:\", dof)\n",
    "print(\"Expected frequencies table:\\n\", expected)"
   ]
  },
  {
   "cell_type": "code",
   "execution_count": 8,
   "metadata": {},
   "outputs": [
    {
     "data": {
      "text/plain": [
       "Text(0.5, 1.0, 'Box Plot of Duration in months \\nGrouped by credit risks (good or bad)')"
      ]
     },
     "execution_count": 8,
     "metadata": {},
     "output_type": "execute_result"
    },
    {
     "data": {
      "image/png": "[encoded data removed]",
      "text/plain": [
       "<Figure size 1000x600 with 1 Axes>"
      ]
     },
     "metadata": {},
     "output_type": "display_data"
    }
   ],
   "source": [
    "# Duration in months\n",
    "plt.figure(figsize=(10, 6))\n",
    "sns.boxplot(data=df, x='duration', y='class')\n",
    "\n",
    "plt.ylabel('Credit risk')\n",
    "plt.xlabel('Duration in months')\n",
    "plt.title('Box Plot of Duration in months \\nby credit risks (good or bad)')\n"
   ]
  },
  {
   "cell_type": "code",
   "execution_count": 9,
   "metadata": {},
   "outputs": [
    {
     "name": "stdout",
     "output_type": "stream",
     "text": [
      "class                             bad  good\n",
      "credit_history                             \n",
      "'all paid'                         28    21\n",
      "'critical/other existing credit'   50   243\n",
      "'delayed previously'               28    60\n",
      "'existing paid'                   169   361\n",
      "'no credits/all paid'              25    15\n",
      "class                                  bad      good\n",
      "credit_history                                      \n",
      "'all paid'                        0.571429  0.428571\n",
      "'critical/other existing credit'  0.170648  0.829352\n",
      "'delayed previously'              0.318182  0.681818\n",
      "'existing paid'                   0.318868  0.681132\n",
      "'no credits/all paid'             0.625000  0.375000\n",
      "Chi-square statistic: 61.691396964595505\n",
      "P-value: 1.2791872956750962e-12\n",
      "Degrees of freedom: 4\n",
      "Expected frequencies table:\n",
      " [[ 14.7  34.3]\n",
      " [ 87.9 205.1]\n",
      " [ 26.4  61.6]\n",
      " [159.  371. ]\n",
      " [ 12.   28. ]]\n"
     ]
    }
   ],
   "source": [
    "\n",
    "# Credit history (credits taken, paid back duly, delays, critical accounts)\n",
    "crosstab = pd.crosstab(df['credit_history'], df['class'])\n",
    "print(crosstab)\n",
    "\n",
    "crosstab1 = pd.crosstab(df['credit_history'], df['class'], normalize='index')\n",
    "print(crosstab1)\n",
    "\n",
    "# Perform chi-square test\n",
    "chi2, p, dof, expected = chi2_contingency(crosstab)\n",
    "\n",
    "print(\"Chi-square statistic:\", chi2)\n",
    "print(\"P-value:\", p)\n",
    "print(\"Degrees of freedom:\", dof)\n",
    "print(\"Expected frequencies table:\\n\", expected)\n",
    "\n",
    "## categories 'all paid', 'existing paid' and 'no credits/all paid' need merging into 1"
   ]
  },
  {
   "cell_type": "code",
   "execution_count": 10,
   "metadata": {},
   "outputs": [
    {
     "name": "stdout",
     "output_type": "stream",
     "text": [
      "class                 bad  good\n",
      "purpose                        \n",
      "'domestic appliance'    4     8\n",
      "'new car'              89   145\n",
      "'used car'             17    86\n",
      "business               34    63\n",
      "education              22    28\n",
      "furniture/equipment    58   123\n",
      "other                   5     7\n",
      "radio/tv               62   218\n",
      "repairs                 8    14\n",
      "retraining              1     8\n",
      "class                      bad      good\n",
      "purpose                                 \n",
      "'domestic appliance'  0.333333  0.666667\n",
      "'new car'             0.380342  0.619658\n",
      "'used car'            0.165049  0.834951\n",
      "business              0.350515  0.649485\n",
      "education             0.440000  0.560000\n",
      "furniture/equipment   0.320442  0.679558\n",
      "other                 0.416667  0.583333\n",
      "radio/tv              0.221429  0.778571\n",
      "repairs               0.363636  0.636364\n",
      "retraining            0.111111  0.888889\n",
      "Chi-square statistic: 33.35644686141815\n",
      "P-value: 0.00011574910079691586\n",
      "Degrees of freedom: 9\n",
      "Expected frequencies table:\n",
      " [[  3.6   8.4]\n",
      " [ 70.2 163.8]\n",
      " [ 30.9  72.1]\n",
      " [ 29.1  67.9]\n",
      " [ 15.   35. ]\n",
      " [ 54.3 126.7]\n",
      " [  3.6   8.4]\n",
      " [ 84.  196. ]\n",
      " [  6.6  15.4]\n",
      " [  2.7   6.3]]\n"
     ]
    }
   ],
   "source": [
    "# Purpose of the credit (car, television,...)\n",
    "crosstab = pd.crosstab(df['purpose'], df['class'])\n",
    "print(crosstab)\n",
    "\n",
    "crosstab1 = pd.crosstab(df['purpose'], df['class'], normalize='index')\n",
    "print(crosstab1)\n",
    "\n",
    "# Perform chi-square test\n",
    "chi2, p, dof, expected = chi2_contingency(crosstab)\n",
    "\n",
    "print(\"Chi-square statistic:\", chi2)\n",
    "print(\"P-value:\", p)\n",
    "print(\"Degrees of freedom:\", dof)\n",
    "print(\"Expected frequencies table:\\n\", expected)\n",
    "\n"
   ]
  },
  {
   "cell_type": "code",
   "execution_count": 11,
   "metadata": {},
   "outputs": [
    {
     "data": {
      "text/plain": [
       "Text(0.5, 1.0, 'Box Plot of Credit amount \\n by credit risks (good or bad)')"
      ]
     },
     "execution_count": 11,
     "metadata": {},
     "output_type": "execute_result"
    },
    {
     "data": {
      "image/png": "[encoded data removed]",
      "text/plain": [
       "<Figure size 1000x600 with 1 Axes>"
      ]
     },
     "metadata": {},
     "output_type": "display_data"
    }
   ],
   "source": [
    "# Credit amount\n",
    "plt.figure(figsize=(10, 6))\n",
    "sns.boxplot(data=df, x='credit_amount', y='class')\n",
    "\n",
    "plt.ylabel('Credit risk')\n",
    "plt.xlabel('Credit amount')\n",
    "plt.title('Box Plot of Credit amount \\n by credit risks (good or bad)')\n"
   ]
  },
  {
   "cell_type": "code",
   "execution_count": null,
   "metadata": {},
   "outputs": [],
   "source": []
  },
  {
   "cell_type": "code",
   "execution_count": 6,
   "metadata": {},
   "outputs": [
    {
     "name": "stdout",
     "output_type": "stream",
     "text": [
      "class               bad  good\n",
      "savings_status               \n",
      "'100<=X<500'         34    69\n",
      "'500<=X<1000'        11    52\n",
      "'<100'              217   386\n",
      "'>=1000'              6    42\n",
      "'no known savings'   32   151\n",
      "class                    bad      good\n",
      "savings_status                        \n",
      "'100<=X<500'        0.330097  0.669903\n",
      "'500<=X<1000'       0.174603  0.825397\n",
      "'<100'              0.359867  0.640133\n",
      "'>=1000'            0.125000  0.875000\n",
      "'no known savings'  0.174863  0.825137\n",
      "Chi-square statistic: 36.098928192418704\n",
      "P-value: 2.761214238568249e-07\n",
      "Degrees of freedom: 4\n",
      "Expected frequencies table:\n",
      " [[ 30.9  72.1]\n",
      " [ 18.9  44.1]\n",
      " [180.9 422.1]\n",
      " [ 14.4  33.6]\n",
      " [ 54.9 128.1]]\n"
     ]
    }
   ],
   "source": [
    "# Status of savings account/bonds, in Deutsche Mark.\n",
    "crosstab = pd.crosstab(df['savings_status'], df['class'])\n",
    "print(crosstab)\n",
    "\n",
    "crosstab1 = pd.crosstab(df['savings_status'], df['class'], normalize='index')\n",
    "print(crosstab1)\n",
    "\n",
    "# Perform chi-square test\n",
    "chi2, p, dof, expected = chi2_contingency(crosstab)\n",
    "\n",
    "print(\"Chi-square statistic:\", chi2)\n",
    "print(\"P-value:\", p)\n",
    "print(\"Degrees of freedom:\", dof)\n",
    "print(\"Expected frequencies table:\\n\", expected)"
   ]
  },
  {
   "cell_type": "code",
   "execution_count": 12,
   "metadata": {},
   "outputs": [
    {
     "name": "stdout",
     "output_type": "stream",
     "text": [
      "class       bad  good\n",
      "employment           \n",
      "'1<=X<4'    104   235\n",
      "'4<=X<7'     39   135\n",
      "'<1'         70   102\n",
      "'>=7'        64   189\n",
      "unemployed   23    39\n",
      "class            bad      good\n",
      "employment                    \n",
      "'1<=X<4'    0.306785  0.693215\n",
      "'4<=X<7'    0.224138  0.775862\n",
      "'<1'        0.406977  0.593023\n",
      "'>=7'       0.252964  0.747036\n",
      "unemployed  0.370968  0.629032\n",
      "Chi-square statistic: 18.3682738466968\n",
      "P-value: 0.001045452349140254\n",
      "Degrees of freedom: 4\n",
      "Expected frequencies table:\n",
      " [[101.7 237.3]\n",
      " [ 52.2 121.8]\n",
      " [ 51.6 120.4]\n",
      " [ 75.9 177.1]\n",
      " [ 18.6  43.4]]\n"
     ]
    }
   ],
   "source": [
    "# . Present employment, in number of years.\n",
    "crosstab = pd.crosstab(df['employment'], df['class'])\n",
    "print(crosstab)\n",
    "\n",
    "crosstab1 = pd.crosstab(df['employment'], df['class'], normalize='index')\n",
    "print(crosstab1)\n",
    "\n",
    "# Perform chi-square test\n",
    "chi2, p, dof, expected = chi2_contingency(crosstab)\n",
    "\n",
    "print(\"Chi-square statistic:\", chi2)\n",
    "print(\"P-value:\", p)\n",
    "print(\"Degrees of freedom:\", dof)\n",
    "print(\"Expected frequencies table:\\n\", expected)\n",
    "\n"
   ]
  },
  {
   "cell_type": "code",
   "execution_count": 13,
   "metadata": {},
   "outputs": [
    {
     "name": "stdout",
     "output_type": "stream",
     "text": [
      "class                 bad  good\n",
      "personal_status                \n",
      "'female div/dep/mar'  109   201\n",
      "'male div/sep'         20    30\n",
      "'male mar/wid'         25    67\n",
      "'male single'         146   402\n",
      "class                      bad      good\n",
      "personal_status                         \n",
      "'female div/dep/mar'  0.351613  0.648387\n",
      "'male div/sep'        0.400000  0.600000\n",
      "'male mar/wid'        0.271739  0.728261\n",
      "'male single'         0.266423  0.733577\n",
      "Chi-square statistic: 9.60521395933605\n",
      "P-value: 0.02223800546926877\n",
      "Degrees of freedom: 3\n",
      "Expected frequencies table:\n",
      " [[ 93.  217. ]\n",
      " [ 15.   35. ]\n",
      " [ 27.6  64.4]\n",
      " [164.4 383.6]]\n"
     ]
    }
   ],
   "source": [
    "# . Personal status (married, single,...) and sex.\n",
    "crosstab = pd.crosstab(df['personal_status'], df['class'])\n",
    "print(crosstab)\n",
    "\n",
    "crosstab1 = pd.crosstab(df['personal_status'], df['class'], normalize='index')\n",
    "print(crosstab1)\n",
    "\n",
    "# Perform chi-square test\n",
    "chi2, p, dof, expected = chi2_contingency(crosstab)\n",
    "\n",
    "print(\"Chi-square statistic:\", chi2)\n",
    "print(\"P-value:\", p)\n",
    "print(\"Degrees of freedom:\", dof)\n",
    "print(\"Expected frequencies table:\\n\", expected)\n",
    "\n",
    "# Categories for personal status need re-formating in the original data"
   ]
  },
  {
   "cell_type": "code",
   "execution_count": 14,
   "metadata": {},
   "outputs": [
    {
     "data": {
      "text/plain": [
       "Text(0.5, 1.0, 'Box Plot of Installment rate in percentage of disposable income \\n by credit risks (good or bad)')"
      ]
     },
     "execution_count": 14,
     "metadata": {},
     "output_type": "execute_result"
    },
    {
     "data": {
      "image/png": "[encoded data removed]",
      "text/plain": [
       "<Figure size 1000x600 with 1 Axes>"
      ]
     },
     "metadata": {},
     "output_type": "display_data"
    }
   ],
   "source": [
    "# 8. Installment rate in percentage of disposable income\n",
    "plt.figure(figsize=(10, 6))\n",
    "sns.boxplot(data=df, x='installment_commitment', y='class')\n",
    "\n",
    "plt.ylabel('Credit risk')\n",
    "plt.xlabel('Installment rate')\n",
    "plt.title('Box Plot of Installment rate in percentage of disposable income \\n by credit risks (good or bad)')\n"
   ]
  },
  {
   "cell_type": "code",
   "execution_count": 15,
   "metadata": {},
   "outputs": [
    {
     "name": "stdout",
     "output_type": "stream",
     "text": [
      "class                   bad  good\n",
      "installment_commitment           \n",
      "1                        34   102\n",
      "2                        62   169\n",
      "3                        45   112\n",
      "4                       159   317\n",
      "class                        bad      good\n",
      "installment_commitment                    \n",
      "1                       0.250000  0.750000\n",
      "2                       0.268398  0.731602\n",
      "3                       0.286624  0.713376\n",
      "4                       0.334034  0.665966\n",
      "Chi-square statistic: 5.476792145153753\n",
      "P-value: 0.1400333122128481\n",
      "Degrees of freedom: 3\n",
      "Expected frequencies table:\n",
      " [[ 40.8  95.2]\n",
      " [ 69.3 161.7]\n",
      " [ 47.1 109.9]\n",
      " [142.8 333.2]]\n"
     ]
    }
   ],
   "source": [
    "# installment_commitment\n",
    "crosstab = pd.crosstab(df['installment_commitment'], df['class'])\n",
    "print(crosstab)\n",
    "\n",
    "crosstab1 = pd.crosstab(df['installment_commitment'], df['class'], normalize='index')\n",
    "print(crosstab1)\n",
    "\n",
    "# Perform chi-square test\n",
    "chi2, p, dof, expected = chi2_contingency(crosstab)\n",
    "\n",
    "print(\"Chi-square statistic:\", chi2)\n",
    "print(\"P-value:\", p)\n",
    "print(\"Degrees of freedom:\", dof)\n",
    "print(\"Expected frequencies table:\\n\", expected)\n",
    "\n",
    "# Categories for personal status need re-formating in the original data"
   ]
  },
  {
   "cell_type": "code",
   "execution_count": 16,
   "metadata": {},
   "outputs": [
    {
     "name": "stdout",
     "output_type": "stream",
     "text": [
      "class           bad  good\n",
      "other_parties            \n",
      "'co applicant'   18    23\n",
      "guarantor        10    42\n",
      "none            272   635\n",
      "class                bad      good\n",
      "other_parties                     \n",
      "'co applicant'  0.439024  0.560976\n",
      "guarantor       0.192308  0.807692\n",
      "none            0.299890  0.700110\n",
      "Chi-square statistic: 6.645366537264244\n",
      "P-value: 0.036055954027247206\n",
      "Degrees of freedom: 2\n",
      "Expected frequencies table:\n",
      " [[ 12.3  28.7]\n",
      " [ 15.6  36.4]\n",
      " [272.1 634.9]]\n"
     ]
    }
   ],
   "source": [
    "# 10. Other debtors / guarantors\n",
    "crosstab = pd.crosstab(df['other_parties'], df['class'])\n",
    "print(crosstab)\n",
    "\n",
    "crosstab1 = pd.crosstab(df['other_parties'], df['class'], normalize='index')\n",
    "print(crosstab1)\n",
    "\n",
    "# Perform chi-square test\n",
    "chi2, p, dof, expected = chi2_contingency(crosstab)\n",
    "\n",
    "print(\"Chi-square statistic:\", chi2)\n",
    "print(\"P-value:\", p)\n",
    "print(\"Degrees of freedom:\", dof)\n",
    "print(\"Expected frequencies table:\\n\", expected)\n"
   ]
  },
  {
   "cell_type": "code",
   "execution_count": 17,
   "metadata": {},
   "outputs": [
    {
     "name": "stdout",
     "output_type": "stream",
     "text": [
      "class            bad  good\n",
      "residence_since           \n",
      "1                 36    94\n",
      "2                 97   211\n",
      "3                 43   106\n",
      "4                124   289\n",
      "class                 bad      good\n",
      "residence_since                    \n",
      "1                0.276923  0.723077\n",
      "2                0.314935  0.685065\n",
      "3                0.288591  0.711409\n",
      "4                0.300242  0.699758\n",
      "Chi-square statistic: 0.7492964483880512\n",
      "P-value: 0.8615521320413175\n",
      "Degrees of freedom: 3\n",
      "Expected frequencies table:\n",
      " [[ 39.   91. ]\n",
      " [ 92.4 215.6]\n",
      " [ 44.7 104.3]\n",
      " [123.9 289.1]]\n"
     ]
    }
   ],
   "source": [
    "# Present residence since X years\n",
    "crosstab = pd.crosstab(df['residence_since'], df['class'])\n",
    "print(crosstab)\n",
    "\n",
    "crosstab1 = pd.crosstab(df['residence_since'], df['class'], normalize='index')\n",
    "print(crosstab1)\n",
    "\n",
    "# Perform chi-square test\n",
    "chi2, p, dof, expected = chi2_contingency(crosstab)\n",
    "\n",
    "print(\"Chi-square statistic:\", chi2)\n",
    "print(\"P-value:\", p)\n",
    "print(\"Degrees of freedom:\", dof)\n",
    "print(\"Expected frequencies table:\\n\", expected)\n"
   ]
  },
  {
   "cell_type": "code",
   "execution_count": 18,
   "metadata": {},
   "outputs": [
    {
     "name": "stdout",
     "output_type": "stream",
     "text": [
      "class                bad  good\n",
      "property_magnitude            \n",
      "'life insurance'      71   161\n",
      "'no known property'   67    87\n",
      "'real estate'         60   222\n",
      "car                  102   230\n",
      "class                     bad      good\n",
      "property_magnitude                     \n",
      "'life insurance'     0.306034  0.693966\n",
      "'no known property'  0.435065  0.564935\n",
      "'real estate'        0.212766  0.787234\n",
      "car                  0.307229  0.692771\n",
      "Chi-square statistic: 23.719551283864707\n",
      "P-value: 2.8584415733250017e-05\n",
      "Degrees of freedom: 3\n",
      "Expected frequencies table:\n",
      " [[ 69.6 162.4]\n",
      " [ 46.2 107.8]\n",
      " [ 84.6 197.4]\n",
      " [ 99.6 232.4]]\n"
     ]
    }
   ],
   "source": [
    "# 12. Property (e.g. real estate)\n",
    "crosstab = pd.crosstab(df['property_magnitude'], df['class'])\n",
    "print(crosstab)\n",
    "\n",
    "crosstab1 = pd.crosstab(df['property_magnitude'], df['class'], normalize='index')\n",
    "print(crosstab1)\n",
    "\n",
    "# Perform chi-square test\n",
    "chi2, p, dof, expected = chi2_contingency(crosstab)\n",
    "\n",
    "print(\"Chi-square statistic:\", chi2)\n",
    "print(\"P-value:\", p)\n",
    "print(\"Degrees of freedom:\", dof)\n",
    "print(\"Expected frequencies table:\\n\", expected)\n"
   ]
  },
  {
   "cell_type": "code",
   "execution_count": 19,
   "metadata": {},
   "outputs": [
    {
     "data": {
      "text/plain": [
       "Text(0.5, 1.0, 'Box Plot of Age in years \\n by credit risks (good or bad)')"
      ]
     },
     "execution_count": 19,
     "metadata": {},
     "output_type": "execute_result"
    },
    {
     "data": {
      "image/png": "[encoded data removed]",
      "text/plain": [
       "<Figure size 1000x600 with 1 Axes>"
      ]
     },
     "metadata": {},
     "output_type": "display_data"
    }
   ],
   "source": [
    "# 13. Age in years\n",
    "plt.figure(figsize=(10, 6))\n",
    "sns.boxplot(data=df, x='age', y='class')\n",
    "\n",
    "plt.ylabel('Credit risk')\n",
    "plt.xlabel('Age (Years)')\n",
    "plt.title('Box Plot of Age in years \\n by credit risks (good or bad)')\n",
    "\n",
    "# outlying observations look okay."
   ]
  },
  {
   "cell_type": "code",
   "execution_count": 20,
   "metadata": {},
   "outputs": [
    {
     "name": "stdout",
     "output_type": "stream",
     "text": [
      "class                bad  good\n",
      "other_payment_plans           \n",
      "bank                  57    82\n",
      "none                 224   590\n",
      "stores                19    28\n",
      "class                     bad      good\n",
      "other_payment_plans                    \n",
      "bank                 0.410072  0.589928\n",
      "none                 0.275184  0.724816\n",
      "stores               0.404255  0.595745\n",
      "Chi-square statistic: 12.839187735866135\n",
      "P-value: 0.0016293178186473534\n",
      "Degrees of freedom: 2\n",
      "Expected frequencies table:\n",
      " [[ 41.7  97.3]\n",
      " [244.2 569.8]\n",
      " [ 14.1  32.9]]\n"
     ]
    }
   ],
   "source": [
    "# 14. Other installment plans (banks, stores)\n",
    "crosstab = pd.crosstab(df['other_payment_plans'], df['class'])\n",
    "print(crosstab)\n",
    "\n",
    "crosstab1 = pd.crosstab(df['other_payment_plans'], df['class'], normalize='index')\n",
    "print(crosstab1)\n",
    "\n",
    "# Perform chi-square test\n",
    "chi2, p, dof, expected = chi2_contingency(crosstab)\n",
    "\n",
    "print(\"Chi-square statistic:\", chi2)\n",
    "print(\"P-value:\", p)\n",
    "print(\"Degrees of freedom:\", dof)\n",
    "print(\"Expected frequencies table:\\n\", expected)\n"
   ]
  },
  {
   "cell_type": "code",
   "execution_count": 21,
   "metadata": {},
   "outputs": [
    {
     "name": "stdout",
     "output_type": "stream",
     "text": [
      "class       bad  good\n",
      "housing              \n",
      "'for free'   44    64\n",
      "own         186   527\n",
      "rent         70   109\n",
      "class            bad      good\n",
      "housing                       \n",
      "'for free'  0.407407  0.592593\n",
      "own         0.260870  0.739130\n",
      "rent        0.391061  0.608939\n",
      "Chi-square statistic: 18.19984158256362\n",
      "P-value: 0.00011167465374597684\n",
      "Degrees of freedom: 2\n",
      "Expected frequencies table:\n",
      " [[ 32.4  75.6]\n",
      " [213.9 499.1]\n",
      " [ 53.7 125.3]]\n"
     ]
    }
   ],
   "source": [
    "# 15. Housing (rent, own,...)\n",
    "crosstab = pd.crosstab(df['housing'], df['class'])\n",
    "print(crosstab)\n",
    "\n",
    "crosstab1 = pd.crosstab(df['housing'], df['class'], normalize='index')\n",
    "print(crosstab1)\n",
    "\n",
    "# Perform chi-square test\n",
    "chi2, p, dof, expected = chi2_contingency(crosstab)\n",
    "\n",
    "print(\"Chi-square statistic:\", chi2)\n",
    "print(\"P-value:\", p)\n",
    "print(\"Degrees of freedom:\", dof)\n",
    "print(\"Expected frequencies table:\\n\", expected)\n"
   ]
  },
  {
   "cell_type": "code",
   "execution_count": 22,
   "metadata": {},
   "outputs": [
    {
     "name": "stdout",
     "output_type": "stream",
     "text": [
      "class             bad  good\n",
      "existing_credits           \n",
      "1                 200   433\n",
      "2                  92   241\n",
      "3                   6    22\n",
      "4                   2     4\n",
      "class                  bad      good\n",
      "existing_credits                    \n",
      "1                 0.315956  0.684044\n",
      "2                 0.276276  0.723724\n",
      "3                 0.214286  0.785714\n",
      "4                 0.333333  0.666667\n",
      "Chi-square statistic: 2.6711981349760645\n",
      "P-value: 0.4451440800083001\n",
      "Degrees of freedom: 3\n",
      "Expected frequencies table:\n",
      " [[189.9 443.1]\n",
      " [ 99.9 233.1]\n",
      " [  8.4  19.6]\n",
      " [  1.8   4.2]]\n"
     ]
    }
   ],
   "source": [
    "# 16. Number of existing credits at this bank\n",
    "crosstab = pd.crosstab(df['existing_credits'], df['class'])\n",
    "print(crosstab)\n",
    "\n",
    "crosstab1 = pd.crosstab(df['existing_credits'], df['class'], normalize='index')\n",
    "print(crosstab1)\n",
    "\n",
    "# Perform chi-square test\n",
    "chi2, p, dof, expected = chi2_contingency(crosstab)\n",
    "\n",
    "print(\"Chi-square statistic:\", chi2)\n",
    "print(\"P-value:\", p)\n",
    "print(\"Degrees of freedom:\", dof)\n",
    "print(\"Expected frequencies table:\\n\", expected)\n",
    "\n",
    "# collapse categories 2,3, & 4 into >=2"
   ]
  },
  {
   "cell_type": "code",
   "execution_count": 23,
   "metadata": {},
   "outputs": [
    {
     "name": "stdout",
     "output_type": "stream",
     "text": [
      "class                        bad  good\n",
      "job                                   \n",
      "'high qualif/self emp/mgmt'   51    97\n",
      "'unemp/unskilled non res'      7    15\n",
      "'unskilled resident'          56   144\n",
      "skilled                      186   444\n",
      "class                             bad      good\n",
      "job                                            \n",
      "'high qualif/self emp/mgmt'  0.344595  0.655405\n",
      "'unemp/unskilled non res'    0.318182  0.681818\n",
      "'unskilled resident'         0.280000  0.720000\n",
      "skilled                      0.295238  0.704762\n",
      "Chi-square statistic: 1.8851560280131707\n",
      "P-value: 0.5965815918843431\n",
      "Degrees of freedom: 3\n",
      "Expected frequencies table:\n",
      " [[ 44.4 103.6]\n",
      " [  6.6  15.4]\n",
      " [ 60.  140. ]\n",
      " [189.  441. ]]\n"
     ]
    }
   ],
   "source": [
    "# 17. Job\n",
    "crosstab = pd.crosstab(df['job'], df['class'])\n",
    "print(crosstab)\n",
    "\n",
    "crosstab1 = pd.crosstab(df['job'], df['class'], normalize='index')\n",
    "print(crosstab1)\n",
    "\n",
    "# Perform chi-square test\n",
    "chi2, p, dof, expected = chi2_contingency(crosstab)\n",
    "\n",
    "print(\"Chi-square statistic:\", chi2)\n",
    "print(\"P-value:\", p)\n",
    "print(\"Degrees of freedom:\", dof)\n",
    "print(\"Expected frequencies table:\\n\", expected)\n",
    "\n"
   ]
  },
  {
   "cell_type": "code",
   "execution_count": 24,
   "metadata": {},
   "outputs": [
    {
     "name": "stdout",
     "output_type": "stream",
     "text": [
      "class           bad  good\n",
      "num_dependents           \n",
      "1               254   591\n",
      "2                46   109\n",
      "class                bad      good\n",
      "num_dependents                    \n",
      "1               0.300592  0.699408\n",
      "2               0.296774  0.703226\n",
      "Chi-square statistic: 0.0\n",
      "P-value: 1.0\n",
      "Degrees of freedom: 1\n",
      "Expected frequencies table:\n",
      " [[253.5 591.5]\n",
      " [ 46.5 108.5]]\n"
     ]
    }
   ],
   "source": [
    "# 18. Number of people being liable to provide maintenance for\n",
    "crosstab = pd.crosstab(df['num_dependents'], df['class'])\n",
    "print(crosstab)\n",
    "\n",
    "crosstab1 = pd.crosstab(df['num_dependents'], df['class'], normalize='index')\n",
    "print(crosstab1)\n",
    "\n",
    "# Perform chi-square test\n",
    "chi2, p, dof, expected = chi2_contingency(crosstab)\n",
    "\n",
    "print(\"Chi-square statistic:\", chi2)\n",
    "print(\"P-value:\", p)\n",
    "print(\"Degrees of freedom:\", dof)\n",
    "print(\"Expected frequencies table:\\n\", expected)\n",
    "\n"
   ]
  },
  {
   "cell_type": "code",
   "execution_count": 25,
   "metadata": {},
   "outputs": [
    {
     "name": "stdout",
     "output_type": "stream",
     "text": [
      "class          bad  good\n",
      "own_telephone           \n",
      "none           187   409\n",
      "yes            113   291\n",
      "class               bad      good\n",
      "own_telephone                    \n",
      "none           0.313758  0.686242\n",
      "yes            0.279703  0.720297\n",
      "Chi-square statistic: 1.1725585310208857\n",
      "P-value: 0.27887615430357415\n",
      "Degrees of freedom: 1\n",
      "Expected frequencies table:\n",
      " [[178.8 417.2]\n",
      " [121.2 282.8]]\n"
     ]
    }
   ],
   "source": [
    "# 19. Telephone (yes,no)\n",
    "crosstab = pd.crosstab(df['own_telephone'], df['class'])\n",
    "print(crosstab)\n",
    "\n",
    "crosstab1 = pd.crosstab(df['own_telephone'], df['class'], normalize='index')\n",
    "print(crosstab1)\n",
    "\n",
    "# Perform chi-square test\n",
    "chi2, p, dof, expected = chi2_contingency(crosstab)\n",
    "\n",
    "print(\"Chi-square statistic:\", chi2)\n",
    "print(\"P-value:\", p)\n",
    "print(\"Degrees of freedom:\", dof)\n",
    "print(\"Expected frequencies table:\\n\", expected)\n",
    "\n",
    "# Not statistically significant"
   ]
  },
  {
   "cell_type": "code",
   "execution_count": 26,
   "metadata": {},
   "outputs": [
    {
     "name": "stdout",
     "output_type": "stream",
     "text": [
      "class           bad  good\n",
      "foreign_worker           \n",
      "no                4    33\n",
      "yes             296   667\n",
      "class                bad      good\n",
      "foreign_worker                    \n",
      "no              0.108108  0.891892\n",
      "yes             0.307373  0.692627\n",
      "Chi-square statistic: 5.821575915033861\n",
      "P-value: 0.015830754902852885\n",
      "Degrees of freedom: 1\n",
      "Expected frequencies table:\n",
      " [[ 11.1  25.9]\n",
      " [288.9 674.1]]\n"
     ]
    }
   ],
   "source": [
    "# 20. Foreign worker (yes,no)\n",
    "crosstab = pd.crosstab(df['foreign_worker'], df['class'])\n",
    "print(crosstab)\n",
    "\n",
    "crosstab1 = pd.crosstab(df['foreign_worker'], df['class'], normalize='index')\n",
    "print(crosstab1)\n",
    "\n",
    "# Perform chi-square test\n",
    "chi2, p, dof, expected = chi2_contingency(crosstab)\n",
    "\n",
    "print(\"Chi-square statistic:\", chi2)\n",
    "print(\"P-value:\", p)\n",
    "print(\"Degrees of freedom:\", dof)\n",
    "print(\"Expected frequencies table:\\n\", expected)\n",
    "\n"
   ]
  },
  {
   "cell_type": "code",
   "execution_count": null,
   "metadata": {},
   "outputs": [],
   "source": []
  }
 ],
 "metadata": {
  "kernelspec": {
   "display_name": "Python 3 (ipykernel)",
   "language": "python",
   "name": "python3"
  },
  "language_info": {
   "codemirror_mode": {
    "name": "ipython",
    "version": 3
   },
   "file_extension": ".py",
   "mimetype": "text/x-python",
   "name": "python",
   "nbconvert_exporter": "python",
   "pygments_lexer": "ipython3",
   "version": "3.11.7"
  }
 },
 "nbformat": 4,
 "nbformat_minor": 4
}
